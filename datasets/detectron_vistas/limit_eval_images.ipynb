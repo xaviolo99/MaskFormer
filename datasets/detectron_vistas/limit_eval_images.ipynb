{
 "cells": [
  {
   "cell_type": "code",
   "execution_count": 7,
   "metadata": {},
   "outputs": [],
   "source": [
    "import json\n",
    "import os\n",
    "from detectron2.data import DatasetCatalog, MetadataCatalog\n",
    "import random"
   ]
  },
  {
   "cell_type": "markdown",
   "metadata": {},
   "source": [
    "## Limit Validation Images"
   ]
  },
  {
   "cell_type": "code",
   "execution_count": 8,
   "metadata": {},
   "outputs": [
    {
     "name": "stdout",
     "output_type": "stream",
     "text": [
      "1232\n"
     ]
    }
   ],
   "source": [
    "SPLIT = \"validation\"\n",
    "IN = \"panoptic_full.json\"\n",
    "OUT = \"panoptic.json\"\n",
    "MAX_PIXELS = 8000000\n",
    "DISCARD_P = 0.0\n",
    "\n",
    "with open(os.path.join(SPLIT, IN), \"r\") as handler:\n",
    "    panoptic = json.load(handler)\n",
    "\n",
    "    \n",
    "image_res = {img[\"id\"]: img[\"width\"]*img[\"height\"] for img in panoptic[\"images\"]}\n",
    "valid_images = {img[\"id\"] for img in panoptic[\"images\"] \n",
    "                if img[\"width\"]*img[\"height\"] <= MAX_PIXELS and random.random() > DISCARD_P}\n",
    "panoptic[\"annotations\"] = [annotation for annotation in panoptic[\"annotations\"] \n",
    "                           if annotation[\"image_id\"] in valid_images]\n",
    "print(len(panoptic[\"annotations\"]))\n",
    "with open(os.path.join(SPLIT, OUT), \"w\") as handler:\n",
    "    json.dump(panoptic, handler)"
   ]
  },
  {
   "cell_type": "markdown",
   "metadata": {},
   "source": [
    "## Add 0 category"
   ]
  },
  {
   "cell_type": "code",
   "execution_count": 3,
   "metadata": {},
   "outputs": [],
   "source": [
    "SPLITS = (\"training\", \"validation\")\n",
    "FILE = \"panoptic.json\"\n",
    "\n",
    "for split in SPLITS:\n",
    "    with open(os.path.join(split, FILE), \"r\") as handler:\n",
    "        panoptic = json.load(handler)\n",
    "    \n",
    "    if panoptic[\"categories\"][0][\"id\"] != 0:\n",
    "        mock = {\"id\": 0, \"name\": \"unlabeled\", \"supercategory\": \"unlabeled\", \"isthing\": 0, \"color\": [0, 0, 0]}\n",
    "        panoptic[\"categories\"] = [mock] + panoptic[\"categories\"]\n",
    "    \n",
    "    with open(os.path.join(split, FILE), \"w\") as handler:\n",
    "        json.dump(panoptic, handler)"
   ]
  },
  {
   "cell_type": "code",
   "execution_count": null,
   "metadata": {},
   "outputs": [],
   "source": []
  }
 ],
 "metadata": {
  "kernelspec": {
   "display_name": "Python 3",
   "language": "python",
   "name": "python3"
  },
  "language_info": {
   "codemirror_mode": {
    "name": "ipython",
    "version": 3
   },
   "file_extension": ".py",
   "mimetype": "text/x-python",
   "name": "python",
   "nbconvert_exporter": "python",
   "pygments_lexer": "ipython3",
   "version": "3.8.5"
  }
 },
 "nbformat": 4,
 "nbformat_minor": 4
}
