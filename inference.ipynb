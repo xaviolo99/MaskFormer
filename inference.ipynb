{
 "cells": [
  {
   "cell_type": "code",
   "execution_count": 39,
   "metadata": {},
   "outputs": [],
   "source": [
    "import argparse\n",
    "import glob\n",
    "import multiprocessing as mp\n",
    "import os\n",
    "import io\n",
    "import sys\n",
    "\n",
    "import tempfile\n",
    "import time\n",
    "import warnings\n",
    "\n",
    "import cv2\n",
    "import numpy as np\n",
    "import tqdm\n",
    "import torch\n",
    "from PIL import Image\n",
    "import zstd\n",
    "\n",
    "from detectron2.config import get_cfg\n",
    "from detectron2.data.detection_utils import read_image\n",
    "from detectron2.projects.deeplab import add_deeplab_config\n",
    "from detectron2.utils.logger import setup_logger\n",
    "\n",
    "from mask_former import add_mask_former_config\n",
    "from demo.predictor import VisualizationDemo"
   ]
  },
  {
   "cell_type": "code",
   "execution_count": 40,
   "metadata": {},
   "outputs": [],
   "source": [
    "CONFIG = \"configs/mapillary-vistas-65-v2/maskformer_panoptic_swin_base_transfer.yaml\"\n",
    "INPUT = [\"exs/*.jpg\"]\n",
    "OUTPUT = \"exs/lol\"\n",
    "WEIGHTS = \"output/model_final.pth\"\n",
    "QUANTIZATION = 40"
   ]
  },
  {
   "cell_type": "code",
   "execution_count": 41,
   "metadata": {},
   "outputs": [],
   "source": [
    "from mask_former.data.datasets.register_mapillary_vistas import MAPILLARY_VISTAS_SEM_SEG_CATEGORIES\n",
    "categories = [category[\"name\"] for category in MAPILLARY_VISTAS_SEM_SEG_CATEGORIES]"
   ]
  },
  {
   "cell_type": "code",
   "execution_count": 42,
   "metadata": {},
   "outputs": [],
   "source": [
    "def setup_cfg(args):\n",
    "    # load config from file and command-line arguments\n",
    "    cfg = get_cfg()\n",
    "    add_deeplab_config(cfg)\n",
    "    add_mask_former_config(cfg)\n",
    "    cfg.merge_from_file(args.config_file)\n",
    "    cfg.merge_from_list(args.opts)\n",
    "    cfg.freeze()\n",
    "    return cfg\n",
    "\n",
    "class Args:\n",
    "    def __init__(self, config, input, output, opts):\n",
    "        self.config_file, self.input, self.output, self.opts = config, input, output, opts"
   ]
  },
  {
   "cell_type": "code",
   "execution_count": 43,
   "metadata": {},
   "outputs": [],
   "source": [
    "args = Args(CONFIG, INPUT, OUTPUT, opts=[\"MODEL.WEIGHTS\", WEIGHTS])\n",
    "setup_logger(name=\"fvcore\")\n",
    "logger = setup_logger()"
   ]
  },
  {
   "cell_type": "code",
   "execution_count": 44,
   "metadata": {},
   "outputs": [
    {
     "name": "stdout",
     "output_type": "stream",
     "text": [
      "\u001B[5m\u001B[31mWARNING\u001B[0m \u001B[32m[10/28 23:47:15 fvcore.common.config]: \u001B[0mLoading config configs/mapillary-vistas-65-v2/Base-MapillaryVistas-65.yaml with yaml.unsafe_load. Your machine may be at risk if the file contains malicious content.\n",
      "\u001B[32m[10/28 23:47:16 fvcore.common.checkpoint]: \u001B[0mLoading checkpoint from output/model_final.pth\n"
     ]
    }
   ],
   "source": [
    "demo = VisualizationDemo(setup_cfg(args))"
   ]
  },
  {
   "cell_type": "code",
   "execution_count": 49,
   "metadata": {},
   "outputs": [
    {
     "name": "stdout",
     "output_type": "stream",
     "text": [
      "\n",
      " exs/a1.jpg 0.008\n",
      "torch.uint8 0.1\n",
      "9504 0.01\n",
      "53248128 0.052\n",
      "118572 0.071\n",
      "True\n",
      "\n",
      " exs/a2.jpg 0.008\n",
      "torch.uint8 0.091\n",
      "9687 0.009\n",
      "53248128 0.049\n",
      "108603 0.068\n",
      "True\n",
      "\n",
      " exs/a3.jpg 0.011\n",
      "torch.uint8 0.092\n",
      "15310 0.009\n",
      "53248128 0.051\n",
      "197946 0.074\n",
      "True\n",
      "\n",
      " exs/a4.jpg 0.008\n",
      "torch.uint8 0.09\n",
      "14241 0.009\n",
      "53248128 0.051\n",
      "207969 0.074\n",
      "True\n",
      "\n",
      " exs/k1.jpg 0.005\n",
      "torch.uint8 0.093\n",
      "8018 0.005\n",
      "34078848 0.034\n",
      "88369 0.052\n",
      "True\n",
      "\n",
      " exs/k2.jpg 0.005\n",
      "torch.uint8 0.093\n",
      "7545 0.005\n",
      "34078848 0.034\n",
      "80105 0.05\n",
      "True\n",
      "\n",
      " exs/k3.jpg 0.005\n",
      "torch.uint8 0.094\n",
      "11708 0.006\n",
      "34078848 0.035\n",
      "147653 0.055\n",
      "True\n",
      "\n",
      " exs/k4.jpg 0.006\n",
      "torch.uint8 0.102\n",
      "10867 0.006\n",
      "34078848 0.033\n",
      "148876 0.052\n"
     ]
    },
    {
     "ename": "KeyboardInterrupt",
     "evalue": "",
     "output_type": "error",
     "traceback": [
      "\u001B[0;31m---------------------------------------------------------------------------\u001B[0m",
      "\u001B[0;31mKeyboardInterrupt\u001B[0m                         Traceback (most recent call last)",
      "\u001B[0;32m<ipython-input-49-2e6688171ccb>\u001B[0m in \u001B[0;36m<module>\u001B[0;34m\u001B[0m\n\u001B[1;32m     32\u001B[0m \u001B[0;34m\u001B[0m\u001B[0m\n\u001B[1;32m     33\u001B[0m     \u001B[0mquantized\u001B[0m \u001B[0;34m=\u001B[0m \u001B[0mnp\u001B[0m\u001B[0;34m.\u001B[0m\u001B[0mcumsum\u001B[0m\u001B[0;34m(\u001B[0m\u001B[0mquantized\u001B[0m\u001B[0;34m,\u001B[0m \u001B[0maxis\u001B[0m\u001B[0;34m=\u001B[0m\u001B[0;36m1\u001B[0m\u001B[0;34m,\u001B[0m \u001B[0mdtype\u001B[0m\u001B[0;34m=\u001B[0m\u001B[0mnp\u001B[0m\u001B[0;34m.\u001B[0m\u001B[0muint8\u001B[0m\u001B[0;34m)\u001B[0m\u001B[0;34m\u001B[0m\u001B[0;34m\u001B[0m\u001B[0m\n\u001B[0;32m---> 34\u001B[0;31m     \u001B[0mprint\u001B[0m\u001B[0;34m(\u001B[0m\u001B[0mnp\u001B[0m\u001B[0;34m.\u001B[0m\u001B[0mallclose\u001B[0m\u001B[0;34m(\u001B[0m\u001B[0mquantized\u001B[0m\u001B[0;34m,\u001B[0m \u001B[0ma\u001B[0m\u001B[0;34m)\u001B[0m\u001B[0;34m)\u001B[0m\u001B[0;34m\u001B[0m\u001B[0;34m\u001B[0m\u001B[0m\n\u001B[0m",
      "\u001B[0;32m<__array_function__ internals>\u001B[0m in \u001B[0;36mallclose\u001B[0;34m(*args, **kwargs)\u001B[0m\n",
      "\u001B[0;32m~/anaconda3/envs/test/lib/python3.8/site-packages/numpy/core/numeric.py\u001B[0m in \u001B[0;36mallclose\u001B[0;34m(a, b, rtol, atol, equal_nan)\u001B[0m\n\u001B[1;32m   2187\u001B[0m \u001B[0;34m\u001B[0m\u001B[0m\n\u001B[1;32m   2188\u001B[0m     \"\"\"\n\u001B[0;32m-> 2189\u001B[0;31m     \u001B[0mres\u001B[0m \u001B[0;34m=\u001B[0m \u001B[0mall\u001B[0m\u001B[0;34m(\u001B[0m\u001B[0misclose\u001B[0m\u001B[0;34m(\u001B[0m\u001B[0ma\u001B[0m\u001B[0;34m,\u001B[0m \u001B[0mb\u001B[0m\u001B[0;34m,\u001B[0m \u001B[0mrtol\u001B[0m\u001B[0;34m=\u001B[0m\u001B[0mrtol\u001B[0m\u001B[0;34m,\u001B[0m \u001B[0matol\u001B[0m\u001B[0;34m=\u001B[0m\u001B[0matol\u001B[0m\u001B[0;34m,\u001B[0m \u001B[0mequal_nan\u001B[0m\u001B[0;34m=\u001B[0m\u001B[0mequal_nan\u001B[0m\u001B[0;34m)\u001B[0m\u001B[0;34m)\u001B[0m\u001B[0;34m\u001B[0m\u001B[0;34m\u001B[0m\u001B[0m\n\u001B[0m\u001B[1;32m   2190\u001B[0m     \u001B[0;32mreturn\u001B[0m \u001B[0mbool\u001B[0m\u001B[0;34m(\u001B[0m\u001B[0mres\u001B[0m\u001B[0;34m)\u001B[0m\u001B[0;34m\u001B[0m\u001B[0;34m\u001B[0m\u001B[0m\n\u001B[1;32m   2191\u001B[0m \u001B[0;34m\u001B[0m\u001B[0m\n",
      "\u001B[0;32m<__array_function__ internals>\u001B[0m in \u001B[0;36misclose\u001B[0;34m(*args, **kwargs)\u001B[0m\n",
      "\u001B[0;32m~/anaconda3/envs/test/lib/python3.8/site-packages/numpy/core/numeric.py\u001B[0m in \u001B[0;36misclose\u001B[0;34m(a, b, rtol, atol, equal_nan)\u001B[0m\n\u001B[1;32m   2288\u001B[0m     \u001B[0myfin\u001B[0m \u001B[0;34m=\u001B[0m \u001B[0misfinite\u001B[0m\u001B[0;34m(\u001B[0m\u001B[0my\u001B[0m\u001B[0;34m)\u001B[0m\u001B[0;34m\u001B[0m\u001B[0;34m\u001B[0m\u001B[0m\n\u001B[1;32m   2289\u001B[0m     \u001B[0;32mif\u001B[0m \u001B[0mall\u001B[0m\u001B[0;34m(\u001B[0m\u001B[0mxfin\u001B[0m\u001B[0;34m)\u001B[0m \u001B[0;32mand\u001B[0m \u001B[0mall\u001B[0m\u001B[0;34m(\u001B[0m\u001B[0myfin\u001B[0m\u001B[0;34m)\u001B[0m\u001B[0;34m:\u001B[0m\u001B[0;34m\u001B[0m\u001B[0;34m\u001B[0m\u001B[0m\n\u001B[0;32m-> 2290\u001B[0;31m         \u001B[0;32mreturn\u001B[0m \u001B[0mwithin_tol\u001B[0m\u001B[0;34m(\u001B[0m\u001B[0mx\u001B[0m\u001B[0;34m,\u001B[0m \u001B[0my\u001B[0m\u001B[0;34m,\u001B[0m \u001B[0matol\u001B[0m\u001B[0;34m,\u001B[0m \u001B[0mrtol\u001B[0m\u001B[0;34m)\u001B[0m\u001B[0;34m\u001B[0m\u001B[0;34m\u001B[0m\u001B[0m\n\u001B[0m\u001B[1;32m   2291\u001B[0m     \u001B[0;32melse\u001B[0m\u001B[0;34m:\u001B[0m\u001B[0;34m\u001B[0m\u001B[0;34m\u001B[0m\u001B[0m\n\u001B[1;32m   2292\u001B[0m         \u001B[0mfinite\u001B[0m \u001B[0;34m=\u001B[0m \u001B[0mxfin\u001B[0m \u001B[0;34m&\u001B[0m \u001B[0myfin\u001B[0m\u001B[0;34m\u001B[0m\u001B[0;34m\u001B[0m\u001B[0m\n",
      "\u001B[0;32m~/anaconda3/envs/test/lib/python3.8/site-packages/numpy/core/numeric.py\u001B[0m in \u001B[0;36mwithin_tol\u001B[0;34m(x, y, atol, rtol)\u001B[0m\n\u001B[1;32m   2274\u001B[0m     \u001B[0;32mdef\u001B[0m \u001B[0mwithin_tol\u001B[0m\u001B[0;34m(\u001B[0m\u001B[0mx\u001B[0m\u001B[0;34m,\u001B[0m \u001B[0my\u001B[0m\u001B[0;34m,\u001B[0m \u001B[0matol\u001B[0m\u001B[0;34m,\u001B[0m \u001B[0mrtol\u001B[0m\u001B[0;34m)\u001B[0m\u001B[0;34m:\u001B[0m\u001B[0;34m\u001B[0m\u001B[0;34m\u001B[0m\u001B[0m\n\u001B[1;32m   2275\u001B[0m         \u001B[0;32mwith\u001B[0m \u001B[0merrstate\u001B[0m\u001B[0;34m(\u001B[0m\u001B[0minvalid\u001B[0m\u001B[0;34m=\u001B[0m\u001B[0;34m'ignore'\u001B[0m\u001B[0;34m)\u001B[0m\u001B[0;34m:\u001B[0m\u001B[0;34m\u001B[0m\u001B[0;34m\u001B[0m\u001B[0m\n\u001B[0;32m-> 2276\u001B[0;31m             \u001B[0;32mreturn\u001B[0m \u001B[0mless_equal\u001B[0m\u001B[0;34m(\u001B[0m\u001B[0mabs\u001B[0m\u001B[0;34m(\u001B[0m\u001B[0mx\u001B[0m\u001B[0;34m-\u001B[0m\u001B[0my\u001B[0m\u001B[0;34m)\u001B[0m\u001B[0;34m,\u001B[0m \u001B[0matol\u001B[0m \u001B[0;34m+\u001B[0m \u001B[0mrtol\u001B[0m \u001B[0;34m*\u001B[0m \u001B[0mabs\u001B[0m\u001B[0;34m(\u001B[0m\u001B[0my\u001B[0m\u001B[0;34m)\u001B[0m\u001B[0;34m)\u001B[0m\u001B[0;34m\u001B[0m\u001B[0;34m\u001B[0m\u001B[0m\n\u001B[0m\u001B[1;32m   2277\u001B[0m \u001B[0;34m\u001B[0m\u001B[0m\n\u001B[1;32m   2278\u001B[0m     \u001B[0mx\u001B[0m \u001B[0;34m=\u001B[0m \u001B[0masanyarray\u001B[0m\u001B[0;34m(\u001B[0m\u001B[0ma\u001B[0m\u001B[0;34m)\u001B[0m\u001B[0;34m\u001B[0m\u001B[0;34m\u001B[0m\u001B[0m\n",
      "\u001B[0;31mKeyboardInterrupt\u001B[0m: "
     ]
    }
   ],
   "source": [
    "input_images = glob.glob(os.path.expanduser(args.input[0]))\n",
    "\n",
    "for path in input_images:\n",
    "    start_time = time.time()\n",
    "    img = read_image(path, format=\"BGR\")\n",
    "    print(\"\\n\", path, round(time.time()-start_time, 3))\n",
    "    \n",
    "    start_time = time.time()\n",
    "    predictions, segmented = demo.run_on_image(img, only_prediction=True)\n",
    "    print(segmented.dtype, round(time.time()-start_time, 3))\n",
    "    \n",
    "    \n",
    "    start_time = time.time()\n",
    "    img = Image.fromarray(np.moveaxis(segmented.numpy(), 0, -1))\n",
    "    img_byte_arr = io.BytesIO()\n",
    "    img.save(img_byte_arr, format=\"PNG\")\n",
    "    img_byte_arr = img_byte_arr.getvalue()\n",
    "    print(sys.getsizeof(img_byte_arr), round(time.time()-start_time, 3))\n",
    "    \n",
    "    start_time = time.time()\n",
    "    quantized = (predictions[\"sem_seg\"] * QUANTIZATION).to(torch.uint8)\n",
    "    a = quantized.cpu().numpy().copy()\n",
    "    quantized[:, 1:, :] = torch.diff(quantized, dim=1)\n",
    "    quantized = quantized.cpu().numpy()\n",
    "    stream = io.BytesIO()\n",
    "    np.save(stream, quantized)\n",
    "    binary = stream.getvalue()\n",
    "    print(len(binary), round(time.time()-start_time, 3))\n",
    "    \n",
    "    compressed = zstd.compress(binary, 7)\n",
    "    print(len(compressed), round(time.time()-start_time, 3))\n",
    "    \n",
    "    quantized = np.cumsum(quantized, axis=1, dtype=np.uint8)\n",
    "    print(np.allclose(quantized, a))"
   ]
  },
  {
   "cell_type": "code",
   "execution_count": 9,
   "metadata": {},
   "outputs": [
    {
     "data": {
      "text/plain": [
       "'\\n    rounded = (predictions[\"sem_seg\"] * 40).to(torch.uint8)\\n    rounded2 = rounded.cpu().numpy()\\n    rounded[:, 1:, :] = torch.diff(rounded, axis=1)\\n    rounded = rounded.cpu().numpy()\\n    \\n    t = time.time()\\n    stream = io.BytesIO()\\n    np.save(stream, rounded)\\n    binary = stream.getvalue()\\n    compressed = zstd.compress(binary, 12)\\n    print(len(compressed), round(time.time()-t, 3))\\n    \\n    binary = zstd.decompress(compressed)\\n    stream = io.BytesIO(binary)\\n    rounded = np.load(stream, allow_pickle=True)\\n    print(rounded.shape)\\n    rounded = np.cumsum(rounded, axis=1, dtype=np.uint8)\\n    print(np.allclose(rounded, rounded2))\\n'"
      ]
     },
     "execution_count": 9,
     "metadata": {},
     "output_type": "execute_result"
    }
   ],
   "source": [
    "\"\"\"\n",
    "    rounded = (predictions[\"sem_seg\"] * 40).to(torch.uint8)\n",
    "    rounded2 = rounded.cpu().numpy()\n",
    "    rounded[:, 1:, :] = torch.diff(rounded, axis=1)\n",
    "    rounded = rounded.cpu().numpy()\n",
    "    \n",
    "    t = time.time()\n",
    "    stream = io.BytesIO()\n",
    "    np.save(stream, rounded)\n",
    "    binary = stream.getvalue()\n",
    "    compressed = zstd.compress(binary, 12)\n",
    "    print(len(compressed), round(time.time()-t, 3))\n",
    "    \n",
    "    binary = zstd.decompress(compressed)\n",
    "    stream = io.BytesIO(binary)\n",
    "    rounded = np.load(stream, allow_pickle=True)\n",
    "    print(rounded.shape)\n",
    "    rounded = np.cumsum(rounded, axis=1, dtype=np.uint8)\n",
    "    print(np.allclose(rounded, rounded2))\n",
    "\"\"\""
   ]
  },
  {
   "cell_type": "code",
   "execution_count": 201,
   "metadata": {},
   "outputs": [
    {
     "name": "stdout",
     "output_type": "stream",
     "text": [
      "924301\n"
     ]
    }
   ],
   "source": [
    "    \"\"\"\n",
    "    t = time.time()\n",
    "    rounded = (predictions[\"sem_seg\"] * 40).to(torch.uint8).cpu().numpy()\n",
    "    size = 0\n",
    "    for a in rounded:\n",
    "        img = Image.fromarray(a)\n",
    "        # img = img.resize((320, 640), Image.BILINEAR)\n",
    "        img_byte_arr = io.BytesIO()\n",
    "        img.save(img_byte_arr, format='PNG')\n",
    "        img_byte_arr = img_byte_arr.getvalue()\n",
    "        #print(sys.getsizeof(img_byte_arr))\n",
    "        if sys.getsizeof(img_byte_arr) < 908:\n",
    "            continue\n",
    "        size += sys.getsizeof(img_byte_arr)\n",
    "    print(size, round(time.time()-t, 2))\n",
    "    \"\"\""
   ]
  }
 ],
 "metadata": {
  "kernelspec": {
   "display_name": "Python 3",
   "language": "python",
   "name": "python3"
  },
  "language_info": {
   "codemirror_mode": {
    "name": "ipython",
    "version": 3
   },
   "file_extension": ".py",
   "mimetype": "text/x-python",
   "name": "python",
   "nbconvert_exporter": "python",
   "pygments_lexer": "ipython3",
   "version": "3.8.5"
  }
 },
 "nbformat": 4,
 "nbformat_minor": 4
}